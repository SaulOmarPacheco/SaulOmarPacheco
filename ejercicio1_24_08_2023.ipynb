{
  "nbformat": 4,
  "nbformat_minor": 0,
  "metadata": {
    "colab": {
      "provenance": [],
      "include_colab_link": true
    },
    "kernelspec": {
      "name": "python3",
      "display_name": "Python 3"
    },
    "language_info": {
      "name": "python"
    }
  },
  "cells": [
    {
      "cell_type": "markdown",
      "metadata": {
        "id": "view-in-github",
        "colab_type": "text"
      },
      "source": [
        "<a href=\"https://colab.research.google.com/github/SaulOmarPacheco/SaulOmarPacheco/blob/main/ejercicio1_24_08_2023.ipynb\" target=\"_parent\"><img src=\"https://colab.research.google.com/assets/colab-badge.svg\" alt=\"Open In Colab\"/></a>"
      ]
    },
    {
      "cell_type": "code",
      "execution_count": null,
      "metadata": {
        "colab": {
          "base_uri": "https://localhost:8080/"
        },
        "id": "cbI7C1WVSmlg",
        "outputId": "04d13710-c2f0-4c1a-b7d5-8b3f6e307174"
      },
      "outputs": [
        {
          "output_type": "stream",
          "name": "stdout",
          "text": [
            "1234\n",
            "-4\n",
            "3\n",
            "Ingresa el nuevo valoroao\n",
            "['pan', 'oao', 100, 1234]\n",
            "['pan', 'oao', ['cocos', 1, 'melones'], 1234]\n",
            "4\n"
          ]
        }
      ],
      "source": [
        "array1=[\"cocos\",1,\"melones\"]\n",
        "factura=[\"pan\",\"huevos\",100,1234]\n",
        "print(factura[1])\n",
        "print(factura[-1])\n",
        "print(-len(factura))\n",
        "print(len(factura)-1)\n",
        "factura[1]=input(\"Ingresa el nuevo valor\")\n",
        "print(factura)\n",
        "factura[2]=array1\n",
        "print(factura)\n",
        "print(len(factura))"
      ]
    },
    {
      "cell_type": "code",
      "source": [],
      "metadata": {
        "id": "8uMtJxnsbopo"
      },
      "execution_count": null,
      "outputs": []
    }
  ]
}